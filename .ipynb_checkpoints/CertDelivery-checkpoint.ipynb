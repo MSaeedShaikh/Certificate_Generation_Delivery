{
 "cells": [
  {
   "cell_type": "code",
   "execution_count": 15,
   "id": "fbec520d",
   "metadata": {},
   "outputs": [],
   "source": [
    "template_name = \"certGenBase.webp\"\n",
    "excel_file = \"name_file.xlsx\"\n",
    "location = (520, 423)\n",
    "folder_name = \"generated\"\n",
    "font_size = 45"
   ]
  },
  {
   "cell_type": "code",
   "execution_count": 5,
   "id": "38436ea7",
   "metadata": {
    "scrolled": true
   },
   "outputs": [],
   "source": [
    "#import student list\n",
    "import pandas as pd\n",
    "#Code to read excel\n",
    "ppl = pd.read_excel(excel_file)"
   ]
  },
  {
   "cell_type": "code",
   "execution_count": 12,
   "id": "125a34c2",
   "metadata": {},
   "outputs": [],
   "source": [
    "from PIL import Image, ImageDraw, ImageFont\n",
    "\n",
    "def write_name(name: str, regNum: int) -> str:\n",
    "    img = Image.open(template_name)\n",
    "    d = ImageDraw.Draw(img)\n",
    "    font = ImageFont.truetype(\"BirdsOfParadise.ttf\", font_size)\n",
    "    d.text(location, name, fill=\"black\", font=font, anchor = 'ms')\n",
    "    file_name = folder_name + \"/\" + str(regNum) + '.' + \"pdf\"\n",
    "    img.save(file_name)\n",
    "    return file_name"
   ]
  },
  {
   "cell_type": "code",
   "execution_count": 13,
   "id": "9a5f88b8",
   "metadata": {
    "scrolled": true
   },
   "outputs": [
    {
     "name": "stdout",
     "output_type": "stream",
     "text": [
      "generated/2022421.pdf\n",
      "generated/2022047.pdf\n"
     ]
    }
   ],
   "source": [
    "for i, name, reg in ppl.itertuples():\n",
    "    print(write_name(name, reg))"
   ]
  },
  {
   "cell_type": "code",
   "execution_count": null,
   "id": "13812085",
   "metadata": {},
   "outputs": [],
   "source": [
    "sender_email = 'your_email@example.com'\n",
    "sender_password = 'your_password'\n",
    "smtp_server = 'smtp.gmail.com'\n",
    "smtp_port = 587\n",
    "\n",
    "def send_email(recipient_email, recipient_name, attachment_path):\n",
    "    # Create email message\n",
    "    subject = \"Your Certificate of Achievement\"\n",
    "    body = f\"Dear {recipient_name},\\n\\nCongratulations! Please find your certificate attached.\\n\\nBest regards,\\nTeam\"\n",
    "    \n",
    "    message = MIMEMultipart()\n",
    "    message['From'] = sender_email\n",
    "    message['To'] = recipient_email\n",
    "    message['Subject'] = subject\n",
    "    message.attach(MIMEText(body, 'plain'))\n",
    "\n",
    "    # Attach certificate\n",
    "    with open(attachment_path, 'rb') as attachment:\n",
    "        part = MIMEBase('application', 'octet-stream')\n",
    "        part.set_payload(attachment.read())\n",
    "        encoders.encode_base64(part)\n",
    "        part.add_header('Content-Disposition', f'attachment; filename={os.path.basename(attachment_path)}')\n",
    "        message.attach(part)\n",
    "\n",
    "    # Send email\n",
    "    with smtplib.SMTP(smtp_server, smtp_port) as server:\n",
    "        server.starttls()\n",
    "        server.login(sender_email, sender_password)\n",
    "        server.send_message(message)\n",
    "        print(f\"Email sent to {recipient_email}\")\n",
    "\n",
    "# Send emails with certificates\n",
    "for index, row in df.iterrows():\n",
    "    recipient_email = row['Email']  # Assuming a column 'Email' in Excel\n",
    "    recipient_name = row['Name']\n",
    "    attachment_path = os.path.join(output_dir, f\"{recipient_name}.png\")\n",
    "    send_email(recipient_email, recipient_name, attachment_path)\n"
   ]
  }
 ],
 "metadata": {
  "kernelspec": {
   "display_name": "cert_delivery_system",
   "language": "python",
   "name": "cert_delivery_system"
  },
  "language_info": {
   "codemirror_mode": {
    "name": "ipython",
    "version": 3
   },
   "file_extension": ".py",
   "mimetype": "text/x-python",
   "name": "python",
   "nbconvert_exporter": "python",
   "pygments_lexer": "ipython3",
   "version": "3.11.5"
  }
 },
 "nbformat": 4,
 "nbformat_minor": 5
}
