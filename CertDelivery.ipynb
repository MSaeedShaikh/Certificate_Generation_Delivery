{
 "cells": [
  {
   "cell_type": "code",
   "execution_count": 1,
   "id": "bf7fd452",
   "metadata": {},
   "outputs": [],
   "source": [
    "template_name = \"certGenBase.webp\"\n",
    "excel_file = \"name_file.xlsx\"\n",
    "location = (520, 423)\n",
    "folder_name = \"generated\"\n",
    "font_size = 45"
   ]
  },
  {
   "cell_type": "code",
   "execution_count": 2,
   "id": "e07d300e",
   "metadata": {
    "scrolled": true
   },
   "outputs": [],
   "source": [
    "#import student list\n",
    "import pandas as pd\n",
    "#Code to read excel\n",
    "ppl = pd.read_excel(excel_file)"
   ]
  },
  {
   "cell_type": "code",
   "execution_count": 3,
   "id": "125a34c2",
   "metadata": {},
   "outputs": [],
   "source": [
    "from PIL import Image, ImageDraw, ImageFont\n",
    "\n",
    "def write_name(name: str, regNum: int) -> str:\n",
    "    img = Image.open(template_name)\n",
    "    d = ImageDraw.Draw(img)\n",
    "    font = ImageFont.truetype(\"BirdsOfParadise.ttf\", font_size)\n",
    "    d.text(location, name, fill=\"black\", font=font, anchor = 'ms')\n",
    "    file_name = folder_name + \"/\" + str(regNum) + '.' + \"pdf\"\n",
    "    img.save(file_name)\n",
    "    return file_name"
   ]
  },
  {
   "cell_type": "code",
   "execution_count": 4,
   "id": "9a5f88b8",
   "metadata": {
    "scrolled": false
   },
   "outputs": [
    {
     "name": "stdout",
     "output_type": "stream",
     "text": [
      "generated/2022350.pdf\n"
     ]
    }
   ],
   "source": [
    "for i, name, reg in ppl.itertuples():\n",
    "    print(write_name(name, reg))"
   ]
  },
  {
   "cell_type": "code",
   "execution_count": 5,
   "id": "13812085",
   "metadata": {},
   "outputs": [],
   "source": [
    "from auths import sender_email, sender_password\n",
    "smtp_server = 'smtp.gmail.com'\n",
    "smtp_port = 587\n",
    "\n",
    "import smtplib\n",
    "from email.mime.text import MIMEText\n",
    "from email.mime.multipart import MIMEMultipart\n",
    "from email.mime.base import MIMEBase\n",
    "from email import encoders\n",
    "import os\n",
    "\n",
    "def send_email(recipient_email, recipient_name, attachment_path):\n",
    "    # Create email message\n",
    "    subject = \"Your Certificate of Achievement\"\n",
    "    body = f\"Dear {recipient_name},\\n\\nCongratulations! Please find your certificate attached.\\n\\nBest regards,\\nTeam\"\n",
    "    \n",
    "    message = MIMEMultipart()\n",
    "    message['From'] = sender_email\n",
    "    message['To'] = recipient_email\n",
    "    message['Subject'] = subject\n",
    "    message.attach(MIMEText(body, 'plain'))\n",
    "\n",
    "    # Attach certificate\n",
    "    with open(attachment_path, 'rb') as attachment:\n",
    "        part = MIMEBase('application', 'octet-stream')\n",
    "        part.set_payload(attachment.read())\n",
    "        encoders.encode_base64(part)\n",
    "        part.add_header('Content-Disposition', f'attachment; filename={os.path.basename(attachment_path)}')\n",
    "        message.attach(part)\n",
    "\n",
    "    # Send email\n",
    "    with smtplib.SMTP(smtp_server, smtp_port) as server:\n",
    "        server.starttls()\n",
    "        server.login(sender_email, sender_password)\n",
    "        server.send_message(message)\n",
    "        print(f\"Email sent to {recipient_email}\")\n"
   ]
  },
  {
   "cell_type": "code",
   "execution_count": 6,
   "id": "1b808554",
   "metadata": {},
   "outputs": [
    {
     "name": "stdout",
     "output_type": "stream",
     "text": [
      "Email sent to u2022350@giki.edu.pk\n"
     ]
    }
   ],
   "source": [
    "for i, name, reg in ppl.itertuples():\n",
    "    reg_email = 'u' + str(reg) + \"@giki.edu.pk\"\n",
    "    file_path = folder_name + '/' + str(reg) + \".pdf\"\n",
    "    send_email(reg_email, name, file_path)"
   ]
  },
  {
   "cell_type": "code",
   "execution_count": null,
   "id": "baccbdc4",
   "metadata": {},
   "outputs": [],
   "source": []
  }
 ],
 "metadata": {
  "kernelspec": {
   "display_name": "cert_delivery_system",
   "language": "python",
   "name": "cert_delivery_system"
  },
  "language_info": {
   "codemirror_mode": {
    "name": "ipython",
    "version": 3
   },
   "file_extension": ".py",
   "mimetype": "text/x-python",
   "name": "python",
   "nbconvert_exporter": "python",
   "pygments_lexer": "ipython3",
   "version": "3.11.5"
  }
 },
 "nbformat": 4,
 "nbformat_minor": 5
}
